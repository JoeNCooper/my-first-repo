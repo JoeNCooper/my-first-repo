{
 "cells": [
  {
   "cell_type": "code",
   "execution_count": 8,
   "id": "033d88b1",
   "metadata": {},
   "outputs": [
    {
     "name": "stdout",
     "output_type": "stream",
     "text": [
      "Hello World\n"
     ]
    }
   ],
   "source": [
    "import numpy as np"
   ]
  },
  {
   "cell_type": "code",
   "execution_count": 12,
   "id": "98731677",
   "metadata": {},
   "outputs": [],
   "source": [
    "heights=np.array([160,155,172,165,180,158,175,163,171,168])"
   ]
  },
  {
   "cell_type": "code",
   "execution_count": 13,
   "id": "e0b1b945",
   "metadata": {},
   "outputs": [
    {
     "name": "stdout",
     "output_type": "stream",
     "text": [
      "Mean: 166.7\n"
     ]
    }
   ],
   "source": [
    "mean=np.mean(heights)\n",
    "print(\"Mean:\", mean)"
   ]
  },
  {
   "cell_type": "code",
   "execution_count": 14,
   "id": "4f9ba420",
   "metadata": {},
   "outputs": [
    {
     "name": "stdout",
     "output_type": "stream",
     "text": [
      "Median: 166.5\n"
     ]
    }
   ],
   "source": [
    "median=np.median(heights)\n",
    "print(\"Median:\", median)"
   ]
  },
  {
   "cell_type": "code",
   "execution_count": 15,
   "id": "6d56eec6",
   "metadata": {},
   "outputs": [
    {
     "name": "stdout",
     "output_type": "stream",
     "text": [
      "Standard Deviation: 7.5372408744845085\n"
     ]
    }
   ],
   "source": [
    "std_dev=np.std(heights)\n",
    "print(\"Standard Deviation:\", std_dev)"
   ]
  },
  {
   "cell_type": "markdown",
   "id": "ca6ee31c",
   "metadata": {},
   "source": [
    "Create a new array with height normalized, ie each height value should be transformed to have a mean of 0 and a Standard deviaviation of 1"
   ]
  },
  {
   "cell_type": "code",
   "execution_count": 16,
   "id": "14b00f69",
   "metadata": {},
   "outputs": [
    {
     "name": "stdout",
     "output_type": "stream",
     "text": [
      "height: [ 0.30917943  0.64254561 -0.3596703   0.30599954 -1.33782435]\n"
     ]
    }
   ],
   "source": [
    "height=np.random.normal(0, 1, size=5)\n",
    "print(\"height:\", height)"
   ]
  },
  {
   "cell_type": "markdown",
   "id": "f1798761",
   "metadata": {},
   "source": [
    "Randomly select 5 heights from the datasets without replacements"
   ]
  },
  {
   "cell_type": "code",
   "execution_count": 17,
   "id": "e489ebe7",
   "metadata": {},
   "outputs": [
    {
     "name": "stdout",
     "output_type": "stream",
     "text": [
      "without_replacement: [ 0.30599954 -1.33782435 -0.3596703   0.30917943  0.64254561]\n"
     ]
    }
   ],
   "source": [
    "heights=np.array([160,155,172,165,180,158,175,163,171,168])\n",
    "\n",
    "without_replacement=np.random.choice(height,5,replace=False)\n",
    "print(\"without_replacement:\",without_replacement)"
   ]
  },
  {
   "cell_type": "markdown",
   "id": "3d49fa9a",
   "metadata": {},
   "source": [
    "Determine the tallest and the shortest in the class using Numpy's argmax and argmin functions"
   ]
  },
  {
   "cell_type": "code",
   "execution_count": 18,
   "id": "7f1f6181",
   "metadata": {},
   "outputs": [
    {
     "name": "stdout",
     "output_type": "stream",
     "text": [
      "Argmax: 4\n"
     ]
    }
   ],
   "source": [
    "array_argmax = np.argmax(heights)\n",
    "print(\"Argmax:\", array_argmax)"
   ]
  },
  {
   "cell_type": "code",
   "execution_count": 19,
   "id": "84a150a2",
   "metadata": {},
   "outputs": [
    {
     "name": "stdout",
     "output_type": "stream",
     "text": [
      "Argmin: 1\n"
     ]
    }
   ],
   "source": [
    "array_argmin = np.argmin(heights)\n",
    "print(\"Argmin:\", array_argmin)"
   ]
  },
  {
   "cell_type": "markdown",
   "id": "71a3009c",
   "metadata": {},
   "source": [
    "Calculate the difference between the tallest and shortest students' heights."
   ]
  },
  {
   "cell_type": "code",
   "execution_count": 23,
   "id": "d8fbae2b",
   "metadata": {},
   "outputs": [
    {
     "name": "stdout",
     "output_type": "stream",
     "text": [
      "25\n"
     ]
    }
   ],
   "source": [
    "Subtraction = 180-155\n",
    "print(Subtraction)"
   ]
  },
  {
   "cell_type": "code",
   "execution_count": null,
   "id": "73b725a5",
   "metadata": {},
   "outputs": [],
   "source": []
  }
 ],
 "metadata": {
  "kernelspec": {
   "display_name": "Python 3 (ipykernel)",
   "language": "python",
   "name": "python3"
  },
  "language_info": {
   "codemirror_mode": {
    "name": "ipython",
    "version": 3
   },
   "file_extension": ".py",
   "mimetype": "text/x-python",
   "name": "python",
   "nbconvert_exporter": "python",
   "pygments_lexer": "ipython3",
   "version": "3.11.5"
  }
 },
 "nbformat": 4,
 "nbformat_minor": 5
}
